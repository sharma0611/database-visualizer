{
 "cells": [
  {
   "cell_type": "markdown",
   "metadata": {},
   "source": [
    "# Schema Investigation"
   ]
  },
  {
   "cell_type": "markdown",
   "metadata": {},
   "source": [
    "Let's take a look at what the data looks like!"
   ]
  },
  {
   "cell_type": "code",
   "execution_count": 4,
   "metadata": {},
   "outputs": [],
   "source": [
    "import pymysql\n",
    "import pandas as pd\n",
    "import pandas.io.sql as sqlio"
   ]
  },
  {
   "cell_type": "code",
   "execution_count": 11,
   "metadata": {},
   "outputs": [],
   "source": [
    "# the values themselves are omitted from the \n",
    "#    published version to protect data\n",
    "conn = pymysql.connect(user = user,\n",
    "                        passwd = password,\n",
    "                        host = host,\n",
    "                        port = port,\n",
    "                        database = name)"
   ]
  },
  {
   "cell_type": "code",
   "execution_count": 7,
   "metadata": {},
   "outputs": [],
   "source": [
    "sql = \"select * from census_learn_sql;\"\n",
    "df = sqlio.read_sql_quebry(sql, conn)"
   ]
  },
  {
   "cell_type": "code",
   "execution_count": 9,
   "metadata": {},
   "outputs": [
    {
     "name": "stdout",
     "output_type": "stream",
     "text": [
      "(176391, 42)\n",
      "   age                 class of worker  industry code  occupation code  \\\n",
      "0   73                 Not in universe              0                0   \n",
      "1   58  Self-employed-not incorporated              4               34   \n",
      "2   18                 Not in universe              0                0   \n",
      "3    9                 Not in universe              0                0   \n",
      "4   10                 Not in universe              0                0   \n",
      "\n",
      "                    education  wage per hour   last education marital status  \\\n",
      "0        High school graduate              0  Not in universe        Widowed   \n",
      "1  Some college but no degree              0  Not in universe       Divorced   \n",
      "2                  10th grade              0      High school  Never married   \n",
      "3                    Children              0  Not in universe  Never married   \n",
      "4                    Children              0  Not in universe  Never married   \n",
      "\n",
      "           major industry code                major occupation code  \\\n",
      "0  Not in universe or children                      Not in universe   \n",
      "1                 Construction  Precision production craft & repair   \n",
      "2  Not in universe or children                      Not in universe   \n",
      "3  Not in universe or children                      Not in universe   \n",
      "4  Not in universe or children                      Not in universe   \n",
      "\n",
      "      ...      father birth country mother birth country  birth country  \\\n",
      "0     ...             United-States        United-States  United-States   \n",
      "1     ...             United-States        United-States  United-States   \n",
      "2     ...                   Vietnam              Vietnam        Vietnam   \n",
      "3     ...             United-States        United-States  United-States   \n",
      "4     ...             United-States        United-States  United-States   \n",
      "\n",
      "                          citizenship own business or self employed  \\\n",
      "0   Native- Born in the United States                             0   \n",
      "1   Native- Born in the United States                             0   \n",
      "2  Foreign born- Not a citizen of U S                             0   \n",
      "3   Native- Born in the United States                             0   \n",
      "4   Native- Born in the United States                             0   \n",
      "\n",
      "  fill questionnaire for veteran s admin  veterans benefits  \\\n",
      "0                        Not in universe                  2   \n",
      "1                        Not in universe                  2   \n",
      "2                        Not in universe                  2   \n",
      "3                        Not in universe                  0   \n",
      "4                        Not in universe                  0   \n",
      "\n",
      "  weeks worked in year  year salary range  \n",
      "0                    0    95     - 50000.  \n",
      "1                   52    94     - 50000.  \n",
      "2                    0    95     - 50000.  \n",
      "3                    0    94     - 50000.  \n",
      "4                    0    94     - 50000.  \n",
      "\n",
      "[5 rows x 42 columns]\n"
     ]
    }
   ],
   "source": [
    "print(df.shape)\n",
    "print(df.head())"
   ]
  },
  {
   "cell_type": "markdown",
   "metadata": {},
   "source": [
    "## Assumption \n",
    "\n",
    "I will carry on with the assumption that the columns in this database will not change. If they were changing, we would have to setup an endpoint that just returns the names of the columns so that our front end can populate the list of columns. In the case that they are unchanging, we can share this column data with our front end & save on that initial call. "
   ]
  },
  {
   "cell_type": "markdown",
   "metadata": {},
   "source": [
    "## Column Extraction\n",
    "Now, let's extract out the names of the columns that can then be used by our front end to make queries to our summary statistics endpoint. "
   ]
  },
  {
   "cell_type": "code",
   "execution_count": 10,
   "metadata": {},
   "outputs": [
    {
     "name": "stdout",
     "output_type": "stream",
     "text": [
      "42\n",
      "['age', 'class of worker', 'industry code', 'occupation code', 'education', 'wage per hour', 'last education', 'marital status', 'major industry code', 'major occupation code', 'mace', 'hispanice', 'sex', 'member of labor', 'reason for unemployment', 'fulltime', 'capital gain', 'capital loss', 'dividends', 'income tax liability', 'previous residence region', 'previous residence state', 'household-with-family', 'household-simple', 'weight', 'msa-change', 'reg-change', 'within-reg-change', 'lived-here', 'migration prev res in sunbelt', 'w', 'family members under 118', 'father birth country', 'mother birth country', 'birth country', 'citizenship', 'own business or self employed', 'fill questionnaire for veteran s admin', 'veterans benefits', 'weeks worked in year', 'year', 'salary range']\n"
     ]
    }
   ],
   "source": [
    "columns = list(df)\n",
    "print(len(columns))\n",
    "print(columns)"
   ]
  },
  {
   "cell_type": "markdown",
   "metadata": {},
   "source": [
    "Now we will use this list in the front end, combined with human readable names that we will make."
   ]
  }
 ],
 "metadata": {
  "kernelspec": {
   "display_name": "Python 3",
   "language": "python",
   "name": "python3"
  },
  "language_info": {
   "codemirror_mode": {
    "name": "ipython",
    "version": 3
   },
   "file_extension": ".py",
   "mimetype": "text/x-python",
   "name": "python",
   "nbconvert_exporter": "python",
   "pygments_lexer": "ipython3",
   "version": "3.6.5"
  }
 },
 "nbformat": 4,
 "nbformat_minor": 2
}
